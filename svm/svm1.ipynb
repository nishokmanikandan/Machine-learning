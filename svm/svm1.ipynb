{
  "nbformat": 4,
  "nbformat_minor": 0,
  "metadata": {
    "colab": {
      "provenance": []
    },
    "kernelspec": {
      "name": "python3",
      "display_name": "Python 3"
    },
    "language_info": {
      "name": "python"
    }
  },
  "cells": [
    {
      "cell_type": "code",
      "execution_count": 1,
      "metadata": {
        "id": "s8grKQ2wqKpj"
      },
      "outputs": [],
      "source": [
        "import pandas as pd\n",
        "import numpy as np\n",
        "from sklearn.model_selection import train_test_split\n",
        "from sklearn.svm import SVC\n",
        "from sklearn.metrics import classification_report, confusion_matrix, accuracy_score\n",
        "from sklearn.preprocessing import StandardScaler\n",
        "import seaborn as sn\n",
        "import matplotlib.pyplot as plt\n"
      ]
    },
    {
      "cell_type": "code",
      "source": [
        "\n",
        "np.random.seed(42)\n",
        "X = np.random.uniform(-3, 3, (300, 2))\n",
        "y = (X[:,1] > X[:,0]**2 - 1).astype(int)\n",
        "\n",
        "data = pd.DataFrame(X, columns=['x1','x2'])\n",
        "data['label'] = y\n",
        "\n",
        "print(\"Shape of data:\", data.shape)\n",
        "print(data.head())\n",
        "\n",
        "\n",
        "print(\"\\nMissing values:\\n\", data.isnull().sum())\n"
      ],
      "metadata": {
        "colab": {
          "base_uri": "https://localhost:8080/"
        },
        "id": "R923R0v6qSLP",
        "outputId": "80ff57c7-bfde-450e-a452-7612e54d860f"
      },
      "execution_count": 2,
      "outputs": [
        {
          "output_type": "stream",
          "name": "stdout",
          "text": [
            "Shape of data: (300, 3)\n",
            "         x1        x2  label\n",
            "0 -0.752759  2.704286      1\n",
            "1  1.391964  0.591951      0\n",
            "2 -2.063888 -2.064033      0\n",
            "3 -2.651498  2.197057      0\n",
            "4  0.606690  1.248435      1\n",
            "\n",
            "Missing values:\n",
            " x1       0\n",
            "x2       0\n",
            "label    0\n",
            "dtype: int64\n"
          ]
        }
      ]
    },
    {
      "cell_type": "code",
      "source": [
        "X = data[['x1','x2']]\n",
        "y = data['label']\n",
        "x_train, x_test, y_train, y_test = train_test_split(X, y, test_size=0.3, random_state=1)\n",
        "print(\"\\nShapes:\", x_train.shape, y_train.shape, x_test.shape, y_test.shape)\n",
        "\n"
      ],
      "metadata": {
        "colab": {
          "base_uri": "https://localhost:8080/"
        },
        "id": "4ypXmem2qVz1",
        "outputId": "624690fc-2a1e-4786-e89a-44f10579dcb9"
      },
      "execution_count": 3,
      "outputs": [
        {
          "output_type": "stream",
          "name": "stdout",
          "text": [
            "\n",
            "Shapes: (210, 2) (210,) (90, 2) (90,)\n"
          ]
        }
      ]
    },
    {
      "cell_type": "code",
      "source": [
        "\n",
        "sc = StandardScaler()\n",
        "x_train = sc.fit_transform(x_train)\n",
        "x_test = sc.transform(x_test)\n"
      ],
      "metadata": {
        "id": "A8wBfcWSqcIZ"
      },
      "execution_count": 4,
      "outputs": []
    },
    {
      "cell_type": "code",
      "source": [
        "model = SVC(kernel='rbf')\n",
        "model.fit(x_train, y_train)\n",
        "y_pred = model.predict(x_test)\n",
        "\n",
        "print(\"\\nSVC [rbf] predictions:\\n\", y_pred)\n",
        "print(\"\\nConfusion Matrix (rbf):\\n\", confusion_matrix(y_test, y_pred))\n",
        "print(\"\\nAccuracy:\", accuracy_score(y_test, y_pred))\n",
        "print(\"\\nReport:\\n\", classification_report(y_test, y_pred))\n",
        "\n"
      ],
      "metadata": {
        "colab": {
          "base_uri": "https://localhost:8080/"
        },
        "id": "pMcFThZvqeVd",
        "outputId": "076ef654-c679-44ab-b9aa-4e2a3b7473e3"
      },
      "execution_count": 5,
      "outputs": [
        {
          "output_type": "stream",
          "name": "stdout",
          "text": [
            "\n",
            "SVC [rbf] predictions:\n",
            " [0 1 0 1 0 0 0 1 1 1 0 0 0 0 0 1 0 0 0 0 1 1 1 1 1 0 0 0 0 0 1 0 0 0 0 0 0\n",
            " 0 1 0 0 0 1 1 0 1 0 0 0 0 1 0 1 1 0 0 0 1 0 0 0 0 0 1 0 0 0 1 0 0 0 0 0 0\n",
            " 0 1 0 0 0 0 1 0 0 0 0 1 1 0 1 0]\n",
            "\n",
            "Confusion Matrix (rbf):\n",
            " [[62  0]\n",
            " [ 1 27]]\n",
            "\n",
            "Accuracy: 0.9888888888888889\n",
            "\n",
            "Report:\n",
            "               precision    recall  f1-score   support\n",
            "\n",
            "           0       0.98      1.00      0.99        62\n",
            "           1       1.00      0.96      0.98        28\n",
            "\n",
            "    accuracy                           0.99        90\n",
            "   macro avg       0.99      0.98      0.99        90\n",
            "weighted avg       0.99      0.99      0.99        90\n",
            "\n"
          ]
        }
      ]
    },
    {
      "cell_type": "code",
      "source": [
        "model = SVC(kernel='linear', random_state=0)\n",
        "model.fit(x_train, y_train)\n",
        "y_pred = model.predict(x_test)\n",
        "\n",
        "print(\"\\nSVC [linear] predictions:\\n\", y_pred)\n",
        "print(\"\\nConfusion Matrix (linear):\\n\", confusion_matrix(y_test, y_pred))\n",
        "\n",
        "\n"
      ],
      "metadata": {
        "colab": {
          "base_uri": "https://localhost:8080/"
        },
        "id": "BiHJV8Biqgba",
        "outputId": "b656809a-3423-4ab4-dc19-75de685f88b0"
      },
      "execution_count": 7,
      "outputs": [
        {
          "output_type": "stream",
          "name": "stdout",
          "text": [
            "\n",
            "SVC [linear] predictions:\n",
            " [0 0 0 0 0 0 0 0 0 0 0 0 0 0 0 0 0 0 0 0 0 0 0 0 0 0 0 0 0 0 0 0 0 0 0 0 0\n",
            " 0 0 0 0 0 0 0 0 0 0 0 0 0 0 0 0 0 0 0 0 0 0 0 0 0 0 0 0 0 0 0 0 0 0 0 0 0\n",
            " 0 0 0 0 0 0 0 0 0 0 0 0 0 0 0 0]\n",
            "\n",
            "Confusion Matrix (linear):\n",
            " [[62  0]\n",
            " [28  0]]\n"
          ]
        }
      ]
    },
    {
      "cell_type": "code",
      "source": [
        "conf_mat_df = pd.crosstab(y_test, y_pred, rownames=['Actual'], colnames=['Predicted'])\n",
        "sn.heatmap(conf_mat_df, annot=True, fmt='d', cmap='Blues')\n",
        "plt.title('SVC [linear] on Quadratic Data')\n",
        "plt.show()\n"
      ],
      "metadata": {
        "colab": {
          "base_uri": "https://localhost:8080/",
          "height": 472
        },
        "id": "aVGVdNajqiqX",
        "outputId": "a9958a1a-f192-4591-a219-42ef4c53dc85"
      },
      "execution_count": 8,
      "outputs": [
        {
          "output_type": "display_data",
          "data": {
            "text/plain": [
              "<Figure size 640x480 with 2 Axes>"
            ],
            "image/png": "[encoded data removed]"
          },
          "metadata": {}
        }
      ]
    }
  ]
}